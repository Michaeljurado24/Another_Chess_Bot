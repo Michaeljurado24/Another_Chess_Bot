{
 "cells": [
  {
   "cell_type": "markdown",
   "metadata": {},
   "source": [
    "# Overview\n",
    "this is a training script for the RNN. To train against multiple types of agents, edit the run_game method.\n",
    "In order for this program to work record_data must be working"
   ]
  },
  {
   "cell_type": "code",
   "execution_count": 1,
   "metadata": {},
   "outputs": [
    {
     "ename": "ModuleNotFoundError",
     "evalue": "No module named 'chess'",
     "output_type": "error",
     "traceback": [
      "\u001b[0;31m---------------------------------------------------------------------------\u001b[0m",
      "\u001b[0;31mModuleNotFoundError\u001b[0m                       Traceback (most recent call last)",
      "\u001b[0;32m<ipython-input-1-5991bf45995f>\u001b[0m in \u001b[0;36m<module>\u001b[0;34m\u001b[0m\n\u001b[1;32m      9\u001b[0m \u001b[0;32mfrom\u001b[0m \u001b[0mcollections\u001b[0m \u001b[0;32mimport\u001b[0m \u001b[0mdeque\u001b[0m\u001b[0;34m\u001b[0m\u001b[0;34m\u001b[0m\u001b[0m\n\u001b[1;32m     10\u001b[0m \u001b[0;32mimport\u001b[0m \u001b[0msys\u001b[0m\u001b[0;34m\u001b[0m\u001b[0;34m\u001b[0m\u001b[0m\n\u001b[0;32m---> 11\u001b[0;31m \u001b[0;32mfrom\u001b[0m \u001b[0mmodified_play_game\u001b[0m \u001b[0;32mimport\u001b[0m \u001b[0mplay_game\u001b[0m\u001b[0;34m\u001b[0m\u001b[0;34m\u001b[0m\u001b[0m\n\u001b[0m",
      "\u001b[0;32m~/Desktop/CS 7649/ReconChess/7649-RBMC/modified_play_game.py\u001b[0m in \u001b[0;36m<module>\u001b[0;34m\u001b[0m\n\u001b[1;32m     12\u001b[0m \u001b[0;32mimport\u001b[0m \u001b[0margparse\u001b[0m\u001b[0;34m\u001b[0m\u001b[0;34m\u001b[0m\u001b[0m\n\u001b[1;32m     13\u001b[0m \u001b[0;32mimport\u001b[0m \u001b[0mrandom\u001b[0m\u001b[0;34m\u001b[0m\u001b[0;34m\u001b[0m\u001b[0m\n\u001b[0;32m---> 14\u001b[0;31m \u001b[0;32mimport\u001b[0m \u001b[0mchess\u001b[0m\u001b[0;34m\u001b[0m\u001b[0;34m\u001b[0m\u001b[0m\n\u001b[0m\u001b[1;32m     15\u001b[0m \u001b[0;32mfrom\u001b[0m \u001b[0mplayer\u001b[0m \u001b[0;32mimport\u001b[0m \u001b[0mload_player\u001b[0m\u001b[0;34m\u001b[0m\u001b[0;34m\u001b[0m\u001b[0m\n\u001b[1;32m     16\u001b[0m \u001b[0;32mfrom\u001b[0m \u001b[0mgame\u001b[0m \u001b[0;32mimport\u001b[0m \u001b[0mGame\u001b[0m\u001b[0;34m\u001b[0m\u001b[0;34m\u001b[0m\u001b[0m\n",
      "\u001b[0;31mModuleNotFoundError\u001b[0m: No module named 'chess'"
     ]
    }
   ],
   "source": [
    "import torch\n",
    "import pickle\n",
    "from uncertainty_rnn import BoardGuesserNet\n",
    "import torch.optim as optim\n",
    "import numpy as np\n",
    "import time\n",
    "import os\n",
    "import matplotlib.pyplot as plt\n",
    "from collections import deque\n",
    "import sys\n",
    "from modified_play_game import play_game\n"
   ]
  },
  {
   "cell_type": "markdown",
   "metadata": {},
   "source": [
    "# Board Guess"
   ]
  },
  {
   "cell_type": "code",
   "execution_count": 2,
   "metadata": {},
   "outputs": [
    {
     "name": "stderr",
     "output_type": "stream",
     "text": [
      "C:\\Users\\Michael Jurado\\workspace\\ReconChess\\Another_Chess_Bot\\uncertainty_rnn.py:12: UserWarning: nn.init.xavier_uniform is now deprecated in favor of nn.init.xavier_uniform_.\n",
      "  torch.nn.init.xavier_uniform(self.conv1.weight, gain = 1)\n",
      "C:\\Users\\Michael Jurado\\workspace\\ReconChess\\Another_Chess_Bot\\uncertainty_rnn.py:17: UserWarning: nn.init.xavier_uniform is now deprecated in favor of nn.init.xavier_uniform_.\n",
      "  torch.nn.init.xavier_uniform(self.conv2.weight, gain = 1)\n",
      "C:\\Users\\Michael Jurado\\workspace\\ReconChess\\Another_Chess_Bot\\uncertainty_rnn.py:27: UserWarning: nn.init.xavier_uniform is now deprecated in favor of nn.init.xavier_uniform_.\n",
      "  torch.nn.init.xavier_uniform(self.dense1.weight, gain = 1)\n"
     ]
    }
   ],
   "source": [
    "# set up Board Guesser Net\n",
    "guessNet = BoardGuesserNet()\n",
    "\n",
    "#set up loss function and optimizer\n",
    "criterion = torch.nn.MSELoss()\n",
    "optimizer = optim.Adam(guessNet.parameters(), lr = .001)\n",
    "\n",
    "# Constants\n",
    "train_iterations = 100000\n",
    "validation_count  = 50 # after every 20 games check validation score\n",
    "load_in_weights = True"
   ]
  },
  {
   "cell_type": "markdown",
   "metadata": {},
   "source": [
    "# Definer helpers"
   ]
  },
  {
   "cell_type": "code",
   "execution_count": 3,
   "metadata": {},
   "outputs": [],
   "source": [
    "\n",
    "def save_model(guessNet):\n",
    "    # definer helpers\n",
    "    try:\n",
    "        os.mkdir(\"rnn_model\")\n",
    "    except Exception as e:\n",
    "        print(e)\n",
    "\n",
    "    torch.save(guessNet.state_dict(), \"rnn_model\")\n",
    "    \n",
    "def load_model(guessNet):\n",
    "    guessNet.load_state_dict(torch.load(\"rnn_model\"))\n",
    "    \n",
    "def run_game():\n",
    "    \"\"\"\n",
    "    Returns X_train_batch, y_train_batch, which are both numpy arrays\n",
    "    \n",
    "    NOTE: Addit command to change which agent plays. (Must save data in specified format though)\n",
    "    \"\"\"\n",
    "    start = time.time()\n",
    "    white_data, black_data = play_game(\"random_agent_save_obs\", \"random_agent_save_obs\")\n",
    "    \n",
    "\n",
    "    player_sense_list, player_truth_board_list = white_data\n",
    "    \n",
    "    X_train_batch = np.array(player_sense_list)\n",
    "    y_train_batch = np.array(player_truth_board_list)\n",
    "    return X_train_batch, y_train_batch\n",
    "\n",
    "\n",
    "def record_game_loss(pred_list, y_train_batch):\n",
    "    \"\"\"\n",
    "    Record mse between truth board and predictions. \n",
    "    THis is for validation\n",
    "    \"\"\"\n",
    "    if isinstnace(pred_list, torch.Tensor):\n",
    "        y_train_batch = y_train_batch.detach().cpu().numpy()\n",
    "        pred_list = pred_list.detach().cpu().numpy()\n",
    "    return np.sum((pred_list - y_train_batch)**2)\n",
    "\n",
    "\n",
    "\n",
    "    \n",
    "def create_loss_plot(train_loss_history):\n",
    "    plt.figure()\n",
    "\n",
    "    x_axis = (np.arange(len(train_loss_history)))\n",
    "    \n",
    "    plt.plot(x_axis, train_loss_history, label = \"train_loss\")\n",
    "    \n",
    "    plt.legend(loc=\"upper left\")\n",
    "    plt.ylabel(\"MSE\")\n",
    "    plt.xlabel(\"epochs\")    \n",
    "    try:\n",
    "        plt.savefig(\"rnn_loss.png\")\n",
    "    except Exception as e:\n",
    "        print(\"Permission denied saving loss\")\n",
    "        \n",
    "    plt.cla()\n",
    "    plt.clf()\n",
    "    plt.close()\n",
    "    \n",
    "    "
   ]
  },
  {
   "cell_type": "markdown",
   "metadata": {},
   "source": [
    "# Training Step"
   ]
  },
  {
   "cell_type": "code",
   "execution_count": 9,
   "metadata": {},
   "outputs": [
    {
     "ename": "KeyboardInterrupt",
     "evalue": "",
     "output_type": "error",
     "traceback": [
      "\u001b[1;31m---------------------------------------------------------------------------\u001b[0m",
      "\u001b[1;31mKeyboardInterrupt\u001b[0m                         Traceback (most recent call last)",
      "\u001b[1;32m<ipython-input-9-14101b0a7904>\u001b[0m in \u001b[0;36m<module>\u001b[1;34m()\u001b[0m\n\u001b[0;32m     20\u001b[0m     \u001b[0mloss\u001b[0m \u001b[1;33m=\u001b[0m \u001b[0mcriterion\u001b[0m\u001b[1;33m(\u001b[0m\u001b[0mpred_labels\u001b[0m\u001b[1;33m,\u001b[0m \u001b[0my_train_batch\u001b[0m\u001b[1;33m)\u001b[0m\u001b[1;33m\u001b[0m\u001b[0m\n\u001b[0;32m     21\u001b[0m \u001b[1;33m\u001b[0m\u001b[0m\n\u001b[1;32m---> 22\u001b[1;33m     \u001b[0mloss\u001b[0m\u001b[1;33m.\u001b[0m\u001b[0mbackward\u001b[0m\u001b[1;33m(\u001b[0m\u001b[1;33m)\u001b[0m\u001b[1;33m\u001b[0m\u001b[0m\n\u001b[0m\u001b[0;32m     23\u001b[0m     \u001b[0moptimizer\u001b[0m\u001b[1;33m.\u001b[0m\u001b[0mstep\u001b[0m\u001b[1;33m(\u001b[0m\u001b[1;33m)\u001b[0m \u001b[1;31m# magic\u001b[0m\u001b[1;33m\u001b[0m\u001b[0m\n\u001b[0;32m     24\u001b[0m     \u001b[0mtrain_loss_queue\u001b[0m\u001b[1;33m.\u001b[0m\u001b[0mappend\u001b[0m\u001b[1;33m(\u001b[0m\u001b[0mloss\u001b[0m\u001b[1;33m.\u001b[0m\u001b[0mdetach\u001b[0m\u001b[1;33m(\u001b[0m\u001b[1;33m)\u001b[0m\u001b[1;33m.\u001b[0m\u001b[0mcpu\u001b[0m\u001b[1;33m(\u001b[0m\u001b[1;33m)\u001b[0m\u001b[1;33m.\u001b[0m\u001b[0mnumpy\u001b[0m\u001b[1;33m(\u001b[0m\u001b[1;33m)\u001b[0m\u001b[1;33m)\u001b[0m\u001b[1;33m\u001b[0m\u001b[0m\n",
      "\u001b[1;32mC:\\ProgramData\\anaconda3\\envs\\chess\\lib\\site-packages\\torch\\tensor.py\u001b[0m in \u001b[0;36mbackward\u001b[1;34m(self, gradient, retain_graph, create_graph)\u001b[0m\n\u001b[0;32m    196\u001b[0m                 \u001b[0mproducts\u001b[0m\u001b[1;33m.\u001b[0m \u001b[0mDefaults\u001b[0m \u001b[0mto\u001b[0m\u001b[0;31m \u001b[0m\u001b[0;31m`\u001b[0m\u001b[0;31m`\u001b[0m\u001b[1;32mFalse\u001b[0m\u001b[0;31m`\u001b[0m\u001b[0;31m`\u001b[0m\u001b[1;33m.\u001b[0m\u001b[1;33m\u001b[0m\u001b[0m\n\u001b[0;32m    197\u001b[0m         \"\"\"\n\u001b[1;32m--> 198\u001b[1;33m         \u001b[0mtorch\u001b[0m\u001b[1;33m.\u001b[0m\u001b[0mautograd\u001b[0m\u001b[1;33m.\u001b[0m\u001b[0mbackward\u001b[0m\u001b[1;33m(\u001b[0m\u001b[0mself\u001b[0m\u001b[1;33m,\u001b[0m \u001b[0mgradient\u001b[0m\u001b[1;33m,\u001b[0m \u001b[0mretain_graph\u001b[0m\u001b[1;33m,\u001b[0m \u001b[0mcreate_graph\u001b[0m\u001b[1;33m)\u001b[0m\u001b[1;33m\u001b[0m\u001b[0m\n\u001b[0m\u001b[0;32m    199\u001b[0m \u001b[1;33m\u001b[0m\u001b[0m\n\u001b[0;32m    200\u001b[0m     \u001b[1;32mdef\u001b[0m \u001b[0mregister_hook\u001b[0m\u001b[1;33m(\u001b[0m\u001b[0mself\u001b[0m\u001b[1;33m,\u001b[0m \u001b[0mhook\u001b[0m\u001b[1;33m)\u001b[0m\u001b[1;33m:\u001b[0m\u001b[1;33m\u001b[0m\u001b[0m\n",
      "\u001b[1;32mC:\\ProgramData\\anaconda3\\envs\\chess\\lib\\site-packages\\torch\\autograd\\__init__.py\u001b[0m in \u001b[0;36mbackward\u001b[1;34m(tensors, grad_tensors, retain_graph, create_graph, grad_variables)\u001b[0m\n\u001b[0;32m     98\u001b[0m     Variable._execution_engine.run_backward(\n\u001b[0;32m     99\u001b[0m         \u001b[0mtensors\u001b[0m\u001b[1;33m,\u001b[0m \u001b[0mgrad_tensors\u001b[0m\u001b[1;33m,\u001b[0m \u001b[0mretain_graph\u001b[0m\u001b[1;33m,\u001b[0m \u001b[0mcreate_graph\u001b[0m\u001b[1;33m,\u001b[0m\u001b[1;33m\u001b[0m\u001b[0m\n\u001b[1;32m--> 100\u001b[1;33m         allow_unreachable=True)  # allow_unreachable flag\n\u001b[0m\u001b[0;32m    101\u001b[0m \u001b[1;33m\u001b[0m\u001b[0m\n\u001b[0;32m    102\u001b[0m \u001b[1;33m\u001b[0m\u001b[0m\n",
      "\u001b[1;31mKeyboardInterrupt\u001b[0m: "
     ]
    },
    {
     "data": {
      "text/plain": [
       "<Figure size 432x288 with 0 Axes>"
      ]
     },
     "metadata": {},
     "output_type": "display_data"
    }
   ],
   "source": [
    "if load_in_weights:\n",
    "    load_model(guessNet)\n",
    "    # TODO\n",
    "\n",
    "# contains train and test lost history\n",
    "train_loss_history = []\n",
    "test_loss_history = []\n",
    "plt.figure()\n",
    "\n",
    "train_loss_queue = deque(maxlen = 100)  # holds a temporary queue of train lost\n",
    "smallestLoss = sys.maxsize\n",
    "lastImprovement = 0\n",
    "for epoch in range(train_iterations):\n",
    "    X_train_batch, y_train_batch = run_game() # plays a game random versus random\n",
    "\n",
    "    X_train_batch = torch.Tensor(X_train_batch)\n",
    "    # training step\n",
    "    pred_labels = guessNet(X_train_batch)\n",
    "    y_train_batch = torch.Tensor(y_train_batch)\n",
    "    loss = criterion(pred_labels, y_train_batch)\n",
    "\n",
    "    loss.backward()\n",
    "    optimizer.step() # magic    \n",
    "    train_loss_queue.append(loss.detach().cpu().numpy())\n",
    "    \n",
    "    loss = np.mean(train_loss_queue)\n",
    "    train_loss_history.append(np.mean(train_loss_queue))\n",
    "\n",
    "    if (epoch +1) % 5 == 0:  # save loss plot every 5 steps\n",
    "        create_loss_plot(train_loss_history)\n",
    "        \n",
    "    # run a validation every 100 steps\n",
    "    if (epoch+ 1) % 100 == 0:\n",
    "        print(\"validation time\")\n",
    "        total_val_loss = 0\n",
    "        for i in range(validation_count):\n",
    "            X_train_batch, y_train_batch = run_game() # plays a game random versus random\n",
    "            X_train_batch = torch.Tensor(X_train_batch)\n",
    "            \n",
    "            # training step\n",
    "            pred_labels = guessNet(X_train_batch)\n",
    "            y_train_batch = torch.Tensor(y_train_batch)\n",
    "            total_val_loss += criterion(pred_labels, y_train_batch)   \n",
    "        val_loss = total_val_loss/ validation_count\n",
    "        \n",
    "        if val_loss < smallestLoss:\n",
    "            print(\"better model found with loss\", val_loss)\n",
    "            save_model(guessNet)\n",
    "            smallestLoss =  val_loss\n",
    "    \n",
    "    # decay learning rate\n",
    "    if (epoch+1) % 200 == 0:\n",
    "        for param_group in optimizer.param_groups:\n",
    "                param_group['lr'] *= .98     \n",
    "                param_group['lr'] = max(.0001, param_group['lr'])\n",
    "        print(\"decaying learning rate to\", param_group[\"lr\"])\n",
    "        \n",
    "    # print out pred_board[0]\n",
    "    if (epoch+1) % 100 == 0:\n",
    "        print(\"pred board for first time step\")\n",
    "        index = 0\n",
    "        for channel in [np.argwhere(i > .5) for i in pred_labels[0].detach().numpy()]:\n",
    "            print(\"active arguments in channel\", index)\n",
    "            print(channel)\n",
    "            index += 1\n",
    "    \n",
    "        \n",
    "\n",
    "            "
   ]
  },
  {
   "cell_type": "code",
   "execution_count": null,
   "metadata": {},
   "outputs": [],
   "source": []
  },
  {
   "cell_type": "code",
   "execution_count": null,
   "metadata": {},
   "outputs": [],
   "source": []
  },
  {
   "cell_type": "code",
   "execution_count": null,
   "metadata": {},
   "outputs": [],
   "source": []
  }
 ],
 "metadata": {
  "kernelspec": {
   "display_name": "Python 3",
   "language": "python",
   "name": "python3"
  },
  "language_info": {
   "codemirror_mode": {
    "name": "ipython",
    "version": 3
   },
   "file_extension": ".py",
   "mimetype": "text/x-python",
   "name": "python",
   "nbconvert_exporter": "python",
   "pygments_lexer": "ipython3",
   "version": "3.7.6"
  }
 },
 "nbformat": 4,
 "nbformat_minor": 4
}
