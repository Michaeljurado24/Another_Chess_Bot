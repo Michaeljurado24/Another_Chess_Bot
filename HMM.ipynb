{
 "cells": [
  {
   "cell_type": "markdown",
   "metadata": {},
   "source": [
    "# HMMLearn Experimentation\n",
    "## Here is a list of all the things that we ave during sensing\n",
    "\n",
    "1st sense you have comes from,\n",
    "\n",
    "### handle_opponent_move_result\n",
    "- captured_piece = bool\n",
    "- captured_square = chess.Square\n",
    "\n",
    "### sense result\n",
    "- 3 x 3 sese result tuples\n",
    "Each square is (coordinate, piece type, player type (white or black)\n",
    "\n",
    "## can you see what piece took your piece?\n",
    "\n",
    "\n",
    "## The key point is that you have all these senses *before a move is chosen*\n"
   ]
  },
  {
   "cell_type": "markdown",
   "metadata": {},
   "source": [
    "# How can we vectorize this information into a standardized emission. Non one hot encoding\n",
    "\n",
    "## emission will look like the following\n",
    "    [int,          -> captured piece   . 0 if captured 1 if not captured\n",
    "    \n",
    "    int,           -> captured square 0, 0 if nothing was captured. (Else 1 - 8)\n",
    "    int,                                 0 if nothing was captured  (Else 1 - 8)\n",
    "    \n",
    "    int,            -> this represents the center coordinate of our sense (1 - 8), (1 - 8)\n",
    "    int,\n",
    "    \n",
    "    int,            -> this repesents the piece type for square 1, 1 of our sense result. 0 for None, 1 - 6 for piece type \n",
    "    int,            -> 0 if white, 1 if black\n",
    "    \n",
    "    int,            -> this repesents the piece type for square 2, 1 of our sense result. 0 for None, 1 - 6 for piece type \n",
    "    int,            -> 0 if white, 1 if black\n",
    "    \n",
    "    ...\n",
    "    \n",
    "    int,            -> this repesents the piece type for square 3, 3 of our sense result. 0 for None, 1 - 6 for piece type \n",
    "    int,            -> 0 if white, 1 if black    \n",
    "    ]\n",
    "    \n",
    "\n",
    "    Number of features in emmision = 5 + 2 * 9 = 23.\n",
    "    \n",
    "   Note: a one hot encoding might be better\n"
   ]
  },
  {
   "cell_type": "markdown",
   "metadata": {},
   "source": [
    "# Okay Now Lets do some coding"
   ]
  },
  {
   "cell_type": "code",
   "execution_count": 9,
   "metadata": {},
   "outputs": [],
   "source": [
    "from hmmlearn import hmm\n",
    "import numpy as np"
   ]
  },
  {
   "cell_type": "code",
   "execution_count": 10,
   "metadata": {},
   "outputs": [],
   "source": [
    "model = hmm.GaussianHMM(n_components=30)  # I think n components litt"
   ]
  },
  {
   "cell_type": "markdown",
   "metadata": {},
   "source": [
    "# Okay What does this and how can we use it\n"
   ]
  },
  {
   "cell_type": "code",
   "execution_count": 3,
   "metadata": {},
   "outputs": [],
   "source": [
    "# lets say that white and black have a bunch of moves. White moves 25 times and black moves 24 times. This ends in a white win\n",
    "\n",
    "white_model = hmm.GaussianHMM(n_components = 3, covariance_type=\"diag\") # how many compoenents is this\n",
    "black_model = hmm.GaussianHMM(n_components = 3, covariance_type=\"diag\")\n",
    "\n",
    "# A GAme\n",
    "sample_data_white = np.random.randint(0, 6, (25, 23))\n",
    "sample_data_black = np.random.randint(0, 6, (24, 23))\n",
    "\n"
   ]
  },
  {
   "cell_type": "code",
   "execution_count": 11,
   "metadata": {},
   "outputs": [
    {
     "name": "stderr",
     "output_type": "stream",
     "text": [
      "Even though the 'startprob_' attribute is set, it will be overwritten during initialization because 'init_params' contains 's'\n",
      "Even though the 'transmat_' attribute is set, it will be overwritten during initialization because 'init_params' contains 't'\n",
      "Even though the 'means_' attribute is set, it will be overwritten during initialization because 'init_params' contains 'm'\n",
      "Even though the 'covars_' attribute is set, it will be overwritten during initialization because 'init_params' contains 'c'\n",
      "Even though the 'startprob_' attribute is set, it will be overwritten during initialization because 'init_params' contains 's'\n",
      "Even though the 'transmat_' attribute is set, it will be overwritten during initialization because 'init_params' contains 't'\n",
      "Even though the 'means_' attribute is set, it will be overwritten during initialization because 'init_params' contains 'm'\n",
      "Even though the 'covars_' attribute is set, it will be overwritten during initialization because 'init_params' contains 'c'\n"
     ]
    },
    {
     "data": {
      "text/plain": [
       "GaussianHMM(algorithm='viterbi', covariance_type='diag', covars_prior=0.01,\n",
       "            covars_weight=1, init_params='stmc', means_prior=0, means_weight=0,\n",
       "            min_covar=0.001, n_components=3, n_iter=10, params='stmc',\n",
       "            random_state=None, startprob_prior=1.0, tol=0.01,\n",
       "            transmat_prior=1.0, verbose=False)"
      ]
     },
     "execution_count": 11,
     "metadata": {},
     "output_type": "execute_result"
    }
   ],
   "source": [
    "# lets fir the hmm on this data\n",
    "white_model.fit(sample_data_white)\n",
    "black_model.fit(sample_data_black)\n",
    "# NOTE: I am fully aware that this isnt enough data to train with"
   ]
  },
  {
   "cell_type": "markdown",
   "metadata": {},
   "source": [
    "# Now lets say that we have trained model and we need to use it to predict the state for a current game\n",
    "\n",
    "Let's say we are on the 10th move playing as white. (White has recieved observations but has not moved yet. We are now in choose move and need to guess our state\n",
    "\n"
   ]
  },
  {
   "cell_type": "code",
   "execution_count": 12,
   "metadata": {},
   "outputs": [
    {
     "name": "stdout",
     "output_type": "stream",
     "text": [
      "[[9.67263773e-27 1.00000000e+00 3.22505922e-62]\n",
      " [1.20942778e-03 8.98254994e-01 1.00535578e-01]\n",
      " [4.14443367e-04 9.99585557e-01 6.12646249e-42]\n",
      " [2.07872786e-04 9.99792127e-01 7.34543489e-16]\n",
      " [3.31421890e-02 9.66857811e-01 2.91715980e-16]\n",
      " [3.95898547e-02 9.60410145e-01 2.16998779e-17]\n",
      " [3.98658803e-01 6.01341197e-01 2.07627154e-22]\n",
      " [1.78648802e-05 9.70546972e-05 9.99885080e-01]\n",
      " [8.01777661e-01 1.56168619e-01 4.20537204e-02]\n",
      " [9.69404994e-01 3.05950064e-02 4.12131896e-31]]\n",
      "(10, 3)\n"
     ]
    }
   ],
   "source": [
    "historical_observations = np.random.randint(0, 6, (10, 23))\n",
    "\n",
    "hidden_states_probs = white_model.predict_proba(historical_observations) # we have three states in total\n",
    "print(hidden_states_probs)\n",
    "print(hidden_states_probs.shape) # I think we might be able to extract more state information per timestep "
   ]
  },
  {
   "cell_type": "markdown",
   "metadata": {},
   "source": [
    "# What is this output saying\n",
    "    ## there is a row for every timestep. Every row sums to one.\n",
    "so hidden_states_probs[i, j] is the probability of being in state j at time step i"
   ]
  },
  {
   "cell_type": "markdown",
   "metadata": {},
   "source": [
    "# Okay so here is the question... How do we train this so it does not suck \n",
    "## My solution is to run N games (each with a varying length) with a random agent playing against another random agent. We then fit this model on all of the games\n"
   ]
  },
  {
   "cell_type": "code",
   "execution_count": 6,
   "metadata": {},
   "outputs": [],
   "source": [
    "\"\"\"\n",
    "psuedocode\n",
    "white_obs = []\n",
    "black_obs = []\n",
    "for i in range(N):\n",
    "    play game\n",
    "    white_obs.append(Sequence of Observations for white last game)\n",
    "    black_obs.append(Seuence of Observations for black last game)\n",
    "  \n",
    "\"\"\"\n",
    "\n",
    "def play_game():\n",
    "    \"\"\"\n",
    "    Function that returns white obs, black obs\n",
    "\n",
    "    \n",
    "    \"\"\"\n",
    "    game_length= np.random.randint(50, 60)\n",
    "    if np.random.randint(0, 1) == 0:\n",
    "        sample_data_white = np.random.randint(0, 6, (game_length, 23)) # person who moves has one more\n",
    "        sample_data_black = np.random.randint(0, 6, (game_length - 1, 23))    \n",
    "    else:\n",
    "        sample_data_white = np.random.randint(0, 6, (game_length, 23))\n",
    "        sample_data_black = np.random.randint(0, 6, (game_length, 23))\n",
    "    return sample_data_white, sample_data_black"
   ]
  },
  {
   "cell_type": "code",
   "execution_count": 14,
   "metadata": {},
   "outputs": [
    {
     "data": {
      "text/plain": [
       "GaussianHMM(algorithm='viterbi', covariance_type='diag', covars_prior=0.01,\n",
       "            covars_weight=1, init_params='stmc', means_prior=0, means_weight=0,\n",
       "            min_covar=0.001, n_components=3, n_iter=10, params='stmc',\n",
       "            random_state=None, startprob_prior=1.0, tol=0.01,\n",
       "            transmat_prior=1.0, verbose=False)"
      ]
     },
     "execution_count": 14,
     "metadata": {},
     "output_type": "execute_result"
    }
   ],
   "source": [
    "N = 100\n",
    "white_model = hmm.GaussianHMM(n_components = 3, covariance_type=\"diag\") # how many compoenents is this\n",
    "black_model = hmm.GaussianHMM(n_components = 3, covariance_type=\"diag\")\n",
    "white_obs_list, black_obs_list = [], []\n",
    "for i in range(N):\n",
    "    white_obs, black_obs = play_game()\n",
    "    white_obs_list.append(white_obs)\n",
    "    black_obs_list.append(black_obs)\n",
    "    \n",
    "\n",
    "# train models\n",
    "lengths_of_sequences_white = [len(i) for i in white_obs_list]\n",
    "lengths_of_sequences_black = [len(i) for i in black_obs_list]\n",
    "\n",
    "\n",
    "\n",
    "white_obs_concat = np.vstack(white_obs_list)\n",
    "black_obs_concat = np.vstack(black_obs_list)\n",
    "white_model.fit(white_obs_concat, lengths_of_sequences_white)\n",
    "black_model.fit(black_obs_concat, lengths_of_sequences_black)\n",
    "    "
   ]
  },
  {
   "cell_type": "code",
   "execution_count": 8,
   "metadata": {},
   "outputs": [
    {
     "name": "stdout",
     "output_type": "stream",
     "text": [
      "GaussianHMM(algorithm='viterbi', covariance_type='diag', covars_prior=0.01,\n",
      "            covars_weight=1, init_params='stmc', means_prior=0, means_weight=0,\n",
      "            min_covar=0.001, n_components=3, n_iter=10, params='stmc',\n",
      "            random_state=None, startprob_prior=1.0, tol=0.01,\n",
      "            transmat_prior=1.0, verbose=False)\n"
     ]
    }
   ],
   "source": [
    "print(white_model)"
   ]
  },
  {
   "cell_type": "code",
   "execution_count": null,
   "metadata": {},
   "outputs": [],
   "source": []
  },
  {
   "cell_type": "code",
   "execution_count": null,
   "metadata": {},
   "outputs": [],
   "source": []
  }
 ],
 "metadata": {
  "kernelspec": {
   "display_name": "Python 3",
   "language": "python",
   "name": "python3"
  },
  "language_info": {
   "codemirror_mode": {
    "name": "ipython",
    "version": 3
   },
   "file_extension": ".py",
   "mimetype": "text/x-python",
   "name": "python",
   "nbconvert_exporter": "python",
   "pygments_lexer": "ipython3",
   "version": "3.5.6"
  }
 },
 "nbformat": 4,
 "nbformat_minor": 4
}
