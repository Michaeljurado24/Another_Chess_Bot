{
 "cells": [
  {
   "cell_type": "code",
   "execution_count": null,
   "metadata": {},
   "outputs": [],
   "source": [
    "import torch\n",
    "import pickle\n",
    "from uncertainty_rnn import BoardGuesserNet\n",
    "import torch.optim as optim\n",
    "import numpy as np\n",
    "import time"
   ]
  },
  {
   "cell_type": "markdown",
   "metadata": {},
   "source": [
    "\n",
    "# Current emission Encodding and Input to Network:\n",
    "    Channels 1-12: stores result of sensing. emission_matrix[0, 2, 2] means there is a rook at (2, 2)\n",
    "\n",
    "    Channel 13: emission_matrix[12, 1, 1] == 1 means that the opponent took a piece at this location\n",
    "\n",
    "    Channel 14: move requested from\n",
    "    Channel 15: move requested to\n",
    "\n",
    "    Channel 16: move actually taken from\n",
    "    Channel 17: move actually take to\n",
    "\n",
    "    Channel 18: if emission_matrix[17, 2, 2] == 1, it means the opponent took a piece at 2, 2\n",
    "\n",
    "    Channel 19: black or white. \n",
    "   \n",
    "\n",
    "# What is the essential idea of using an RNN?\n",
    "\n",
    "### You feed in emissions (observations) into the network and it outputs the best hypothesis for the state of the board.\n",
    "\n",
    "### Why does this work? Hidden states convey past information about state history\n",
    "    \n",
    "# When do we query the RNN?\n",
    "\n",
    "## Choose Sense\n",
    "    We query the RNN here because we need to choose the sense that resolves the most doubt in our network (Ive got to still work on this). For now we should just randomly choose senses\n",
    "\n",
    "## Choose Move\n",
    "    We query here because our policy network needs a good estimate of the state of the board\n",
    "    \n",
    "\n",
    "# IMPORTANT NOTE: because we are querying the network twice per turn, we have two datapoints to train on per turn.\n",
    "\n",
    "# To see how data is collected please look at random_agent_save_obs.py\n",
    "\n",
    "# TODO\n",
    "    -create network for online inference (will read in weights of trained network)\n",
    "     \n",
    "\n",
    "    "
   ]
  },
  {
   "cell_type": "code",
   "execution_count": 5,
   "metadata": {},
   "outputs": [
    {
     "name": "stdout",
     "output_type": "stream",
     "text": [
      "Game Over!\n",
      "BLACK won by king capture.\n",
      "total time to run game 0.37033867835998535\n"
     ]
    }
   ],
   "source": [
    "# what if we deal with uncertainty with an RNN?\n",
    "#Treat this like any other machine learning problem X -> Y, except X is obs and Y is truth board\n",
    "\n",
    "#first we collect data\n",
    "start = time.time()\n",
    "!python record_data.py random_agent_save_obs random_agent_save_obs\n",
    "print(\"total time to run game\", time.time() - start)"
   ]
  },
  {
   "cell_type": "code",
   "execution_count": 7,
   "metadata": {},
   "outputs": [],
   "source": [
    "# now lets load the data in\n",
    "in_ = open(\"white_game_obs.pkl\", \"rb\")\n",
    "white_sense_list, white_truth_board_list = pickle.load(in_)\n",
    "assert not np.all(white_truth_board_list[0] == white_truth_board_list[-1])\n",
    "in_.close()"
   ]
  },
  {
   "cell_type": "code",
   "execution_count": null,
   "metadata": {},
   "outputs": [],
   "source": [
    "# white sense list is basically a list of one hot encoding of sensing data\n",
    "print(\"number of turns in game\", white_sense_list[0].shape)\n",
    "print(\"dimension of a sense\", white_sense_list[0].shape)\n",
    "# 1st dimension is number of turns, second dimension"
   ]
  },
  {
   "cell_type": "code",
   "execution_count": 5,
   "metadata": {},
   "outputs": [],
   "source": [
    "#load the recurrent network\n",
    "guessNet = BoardGuesserNet()"
   ]
  },
  {
   "cell_type": "code",
   "execution_count": null,
   "metadata": {},
   "outputs": [],
   "source": []
  },
  {
   "cell_type": "code",
   "execution_count": null,
   "metadata": {},
   "outputs": [],
   "source": []
  },
  {
   "cell_type": "code",
   "execution_count": 6,
   "metadata": {},
   "outputs": [],
   "source": [
    "#set up loss function and optimizer\n",
    "criterion = torch.nn.MSELoss()\n",
    "optimizer = optim.SGD(guessNet.parameters(), lr=0.001, momentum=0.9)\n"
   ]
  },
  {
   "cell_type": "code",
   "execution_count": 7,
   "metadata": {},
   "outputs": [
    {
     "name": "stdout",
     "output_type": "stream",
     "text": [
      "conv 1 out shape torch.Size([46, 32, 6, 6])\n",
      "conv 2 out shape torch.Size([46, 64, 5, 5])\n",
      "pool_2_out shape torch.Size([46, 64, 2, 2])\n",
      "time to train batch 0.07606863975524902\n"
     ]
    }
   ],
   "source": [
    "\n",
    "\n",
    "start_train_batch = time.time()\n",
    "# prepare data for training\n",
    "X_train_batch = torch.Tensor(white_sense_list)\n",
    "y_train_batch = torch.Tensor(white_truth_board_list)\n",
    "pred_labels = guessNet(X_train_batch)\n",
    "loss = criterion(pred_labels, y_train_batch)\n",
    "\n",
    "loss.backward()\n",
    "optimizer.step() # magic\n",
    "print(\"time to train batch\", time.time() - start_train_batch)"
   ]
  },
  {
   "cell_type": "code",
   "execution_count": null,
   "metadata": {},
   "outputs": [],
   "source": []
  },
  {
   "cell_type": "code",
   "execution_count": null,
   "metadata": {},
   "outputs": [],
   "source": []
  },
  {
   "cell_type": "code",
   "execution_count": null,
   "metadata": {},
   "outputs": [],
   "source": []
  }
 ],
 "metadata": {
  "kernelspec": {
   "display_name": "Python 3",
   "language": "python",
   "name": "python3"
  }
 },
 "nbformat": 4,
 "nbformat_minor": 4
}
